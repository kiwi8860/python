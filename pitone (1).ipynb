{
 "cells": [
  {
   "cell_type": "code",
   "execution_count": 1,
   "id": "92402f91",
   "metadata": {},
   "outputs": [
    {
     "name": "stdout",
     "output_type": "stream",
     "text": [
      "hello world\n"
     ]
    }
   ],
   "source": [
    "print(\"hello world\")"
   ]
  },
  {
   "cell_type": "code",
   "execution_count": 3,
   "id": "42910ae1",
   "metadata": {},
   "outputs": [
    {
     "name": "stdout",
     "output_type": "stream",
     "text": [
      "inserisci il primo numero: 8\n",
      "inserisci il secondo numero: 3333\n",
      "la moltiplicazione è: 26664\n"
     ]
    }
   ],
   "source": [
    "numero1=int(input(\"inserisci il primo numero: \"))\n",
    "numero2=int(input(\"inserisci il secondo numero: \"))\n",
    "moltiplicazione=numero1*numero2\n",
    "print(\"la moltiplicazione è:\", moltiplicazione)"
   ]
  },
  {
   "cell_type": "code",
   "execution_count": 8,
   "id": "aec43220",
   "metadata": {},
   "outputs": [
    {
     "name": "stdout",
     "output_type": "stream",
     "text": [
      "1\n",
      "2\n",
      "3\n",
      "4\n",
      "5\n",
      "6\n",
      "7\n",
      "8\n",
      "9\n",
      "10\n"
     ]
    }
   ],
   "source": [
    "for numero in range(1,11):\n",
    "    print(numero)"
   ]
  },
  {
   "cell_type": "code",
   "execution_count": 9,
   "id": "7d032275",
   "metadata": {},
   "outputs": [
    {
     "name": "stdout",
     "output_type": "stream",
     "text": [
      "1\n",
      "2\n",
      "3\n",
      "4\n",
      "5\n",
      "6\n",
      "7\n",
      "8\n",
      "9\n",
      "10\n"
     ]
    }
   ],
   "source": [
    "for numero in range(1,10+1):\n",
    "    print(numero)"
   ]
  },
  {
   "cell_type": "code",
   "execution_count": 4,
   "id": "9152ff86",
   "metadata": {},
   "outputs": [
    {
     "name": "stdout",
     "output_type": "stream",
     "text": [
      "inserisci l'operazione (+, -, *, /): -\n",
      "inserisci il primo numero: 7\n",
      "inserisci il secondo numero: 09999\n",
      "il risultato è:  -9992.0\n"
     ]
    }
   ],
   "source": [
    "operazione=input(\"inserisci l'operazione (+, -, *, /): \")\n",
    "\n",
    "numero1=float(input(\"inserisci il primo numero: \"))\n",
    "numero2=float(input(\"inserisci il secondo numero: \"))\n",
    "\n",
    "if operazione == \"+\":\n",
    "    risultato = numero1+numero2\n",
    "elif operazione == \"-\":\n",
    "    risultato = numero1-numero2\n",
    "elif operazione == \"*\":\n",
    "    risultato = numero1*numero2\n",
    "elif operazione == \"/\":\n",
    "    risultato = numero1/numero2\n",
    "else:\n",
    "    risultato = \"operazione non valida\"\n",
    "    \n",
    "print(\"il risultato è: \", risultato)"
   ]
  },
  {
   "cell_type": "code",
   "execution_count": 14,
   "id": "014516d4",
   "metadata": {},
   "outputs": [
    {
     "name": "stdout",
     "output_type": "stream",
     "text": [
      "inserisci un numero intero positivo:10\n",
      "5\n",
      "6\n",
      "7\n",
      "8\n",
      "9\n",
      "10\n"
     ]
    }
   ],
   "source": [
    "n=int(input(\"inserisci un numero intero positivo:\"))\n",
    "\n",
    "for numero in range(5,n+1):\n",
    "    print(numero)"
   ]
  },
  {
   "cell_type": "code",
   "execution_count": 21,
   "id": "8225d75e",
   "metadata": {},
   "outputs": [
    {
     "name": "stdout",
     "output_type": "stream",
     "text": [
      "inserisci un numero intero positivo:5\n",
      "la somma dei primi 5 numeri interi è: 15\n"
     ]
    }
   ],
   "source": [
    "n=int(input(\"inserisci un numero intero positivo:\"))\n",
    "somma=0\n",
    "\n",
    "for numero in range(1,n+1):\n",
    "    #somma + numero=\n",
    "    somma += numero\n",
    "    #se in \"for numero in range\" ripeterà il comando su tutti i numeri\n",
    "print(\"la somma dei primi\", n, \"numeri interi è:\", somma)"
   ]
  },
  {
   "cell_type": "code",
   "execution_count": 22,
   "id": "8e79ce9f",
   "metadata": {},
   "outputs": [
    {
     "name": "stdout",
     "output_type": "stream",
     "text": [
      "inserisci un numero intero positivo: 2\n",
      "quadrati dei primi: 2 numeri:\n",
      "il quadrato di 1 è 1\n",
      "il quadrato di 2 è 4\n"
     ]
    }
   ],
   "source": [
    "n=int(input(\"inserisci un numero intero positivo: \"))\n",
    "\n",
    "print(\"quadrati dei primi:\", n, \"numeri:\")\n",
    "\n",
    "for numero in range(1,n+1):\n",
    "    quadrato=numero ** 2\n",
    "    print(\"il quadrato di\", numero, \"è\", quadrato)"
   ]
  },
  {
   "cell_type": "code",
   "execution_count": 13,
   "id": "c87d1d0f",
   "metadata": {},
   "outputs": [
    {
     "name": "stdout",
     "output_type": "stream",
     "text": [
      "inserisci un numero: 2\n",
      "2 è un numero dispari.\n"
     ]
    }
   ],
   "source": [
    "numero=int(input(\"inserisci un numero: \"))\n",
    "\n",
    "if numero % 2 == 0:\n",
    "    #se \"\"% 10 == 3:\" sono pari solo i numeri che divisi per 10 danno come resto 3\"\n",
    "    print(numero, \"è un numero pari.\")\n",
    "else:\n",
    "    print(numero, \"è un numero dispari.\")"
   ]
  },
  {
   "cell_type": "code",
   "execution_count": 5,
   "id": "f33e5e37",
   "metadata": {},
   "outputs": [
    {
     "ename": "SyntaxError",
     "evalue": "unterminated string literal (detected at line 8) (2385491602.py, line 8)",
     "output_type": "error",
     "traceback": [
      "\u001b[1;36m  Cell \u001b[1;32mIn[5], line 8\u001b[1;36m\u001b[0m\n\u001b[1;33m    print(\"il tuo cane è molto pesante)\u001b[0m\n\u001b[1;37m          ^\u001b[0m\n\u001b[1;31mSyntaxError\u001b[0m\u001b[1;31m:\u001b[0m unterminated string literal (detected at line 8)\n"
     ]
    }
   ],
   "source": []
  },
  {
   "cell_type": "code",
   "execution_count": 6,
   "id": "02c9207e",
   "metadata": {},
   "outputs": [
    {
     "name": "stdout",
     "output_type": "stream",
     "text": [
      "come reputi alby? 76\n",
      "alby, amante dei gatti, bravo bambino\n"
     ]
    }
   ],
   "source": []
  },
  {
   "cell_type": "code",
   "execution_count": 9,
   "id": "1dac778e",
   "metadata": {},
   "outputs": [
    {
     "name": "stdout",
     "output_type": "stream",
     "text": [
      "come reputi alby? ALBY\n",
      "ALBY, IDK, BRAVO BAMBINO\n"
     ]
    }
   ],
   "source": []
  },
  {
   "cell_type": "code",
   "execution_count": 1,
   "id": "ed1524db",
   "metadata": {},
   "outputs": [
    {
     "name": "stdout",
     "output_type": "stream",
     "text": [
      "cosa devi calcolare? (f, a, m): g\n",
      "puoi calcolare solo f, a E m\n",
      "la forza è: 1\n",
      "l'accellerazione è: 1\n",
      "la massa è: 1\n",
      "la forza è: 1\n",
      "l'accellerazione è: 1\n",
      "la massa è: 1\n",
      "la forza è: 1\n",
      "l'accellerazione è: 1\n",
      "la massa è: 1\n",
      "la forza è: 1\n",
      "l'accellerazione è: 1\n",
      "la massa è: 1\n",
      "la forza è: 1\n",
      "l'accellerazione è: 1\n",
      "la massa è: 1\n",
      "la forza è: 1\n",
      "l'accellerazione è: 1\n",
      "la massa è: 1\n",
      "la forza è: 111\n",
      "l'accellerazione è: 1\n",
      "la massa è: 1\n",
      "la forza è: 1\n",
      "l'accellerazione è: 1\n",
      "la massa è: 1\n",
      "la forza è: 1\n",
      "l'accellerazione è: 1\n",
      "la massa è: 1\n",
      "la forza è: 1\n",
      "l'accellerazione è: 1\n",
      "la massa è: 1\n",
      "la forza è: 11\n",
      "l'accellerazione è: 11\n",
      "la massa è: 1\n",
      "la forza è: 1\n",
      "l'accellerazione è: 11\n",
      "la massa è: 1\n",
      "la forza è: 1\n",
      "l'accellerazione è: 11\n",
      "la massa è: 1\n",
      "la forza è: 1\n",
      "l'accellerazione è: 1\n",
      "la massa è: 1\n",
      "la forza è: 1\n",
      "l'accellerazione è: 1\n",
      "la massa è: 1\n",
      "la forza è: 1\n",
      "l'accellerazione è: \n"
     ]
    },
    {
     "ename": "ValueError",
     "evalue": "could not convert string to float: ''",
     "output_type": "error",
     "traceback": [
      "\u001b[1;31m---------------------------------------------------------------------------\u001b[0m",
      "\u001b[1;31mValueError\u001b[0m                                Traceback (most recent call last)",
      "Cell \u001b[1;32mIn[1], line 15\u001b[0m\n\u001b[0;32m     13\u001b[0m \u001b[38;5;28;01mwhile\u001b[39;00m \u001b[38;5;28;01mTrue\u001b[39;00m:\n\u001b[0;32m     14\u001b[0m     f\u001b[38;5;241m=\u001b[39m\u001b[38;5;28mfloat\u001b[39m(\u001b[38;5;28minput\u001b[39m(\u001b[38;5;124m\"\u001b[39m\u001b[38;5;124mla forza è: \u001b[39m\u001b[38;5;124m\"\u001b[39m))\n\u001b[1;32m---> 15\u001b[0m     a\u001b[38;5;241m=\u001b[39m\u001b[38;5;28mfloat\u001b[39m(\u001b[38;5;28minput\u001b[39m(\u001b[38;5;124m\"\u001b[39m\u001b[38;5;124ml\u001b[39m\u001b[38;5;124m'\u001b[39m\u001b[38;5;124maccellerazione è: \u001b[39m\u001b[38;5;124m\"\u001b[39m))\n\u001b[0;32m     16\u001b[0m     m\u001b[38;5;241m=\u001b[39m\u001b[38;5;28mfloat\u001b[39m(\u001b[38;5;28minput\u001b[39m(\u001b[38;5;124m\"\u001b[39m\u001b[38;5;124mla massa è: \u001b[39m\u001b[38;5;124m\"\u001b[39m))\n\u001b[0;32m     17\u001b[0m \u001b[38;5;28;01mbreak\u001b[39;00m\n",
      "\u001b[1;31mValueError\u001b[0m: could not convert string to float: ''"
     ]
    }
   ],
   "source": []
  },
  {
   "cell_type": "markdown",
   "id": "fc0f2df8",
   "metadata": {},
   "source": [
    "n=int(input(\"iserisci un numero intero positivo: \"))\n",
    "fattoriale=1\n",
    "\n",
    "for numero in range(1, n+1):\n",
    "    fattoriale*=numero\n",
    "print(\"il fattoriale di\", n, \"è:\", fattoriale)"
   ]
  },
  {
   "cell_type": "code",
   "execution_count": 27,
   "id": "54b3ce85",
   "metadata": {},
   "outputs": [
    {
     "name": "stdout",
     "output_type": "stream",
     "text": [
      "quanti numeri vuoi inserire? 10\n",
      "inserisci un numero: 1\n",
      "inserisci un numero: 2\n",
      "inserisci un numero: 3\n",
      "inserisci un numero: 5\n",
      "inserisci un numero: 8\n",
      "inserisci un numero: 12\n",
      "inserisci un numero: 12\n",
      "inserisci un numero: 11\n",
      "inserisci un numero: 10\n",
      "inserisci un numero: 25\n",
      "la media dei numeri insseriti è: 8.9 la lista completa è: [1.0, 2.0, 3.0, 5.0, 8.0, 12.0, 12.0, 11.0, 10.0, 25.0]\n"
     ]
    }
   ],
   "source": [
    "numeri=[]\n",
    "\n",
    "n=int(input(\"quanti numeri vuoi inserire? \"))\n",
    "\n",
    "for i in range(n):\n",
    "    numero=float(input(\"inserisci un numero: \"))\n",
    "    numeri.append(numero)\n",
    "    \n",
    "media=sum(numeri)/len(numeri)\n",
    "\n",
    "print(\"la media dei numeri inseriti è:\", media, \"la lista completa è:\", numeri)"
   ]
  },
  {
   "cell_type": "code",
   "execution_count": 28,
   "id": "227176d8",
   "metadata": {},
   "outputs": [
    {
     "name": "stdout",
     "output_type": "stream",
     "text": [
      "indovina il numero (1-100): 20\n",
      "il numero è più grande.\n",
      "indovina il numero (1-100): 40\n",
      "il numero da indovinare è più piccolo.\n",
      "indovina il numero (1-100): 30\n",
      "il numero da indovinare è più piccolo.\n",
      "indovina il numero (1-100): 25\n",
      "il numero da indovinare è più piccolo.\n",
      "indovina il numero (1-100): 22\n",
      "il numero è più grande.\n",
      "indovina il numero (1-100): 23\n",
      "Bravo! Hai indovinato il numero 23 in 6 tentativi.\n"
     ]
    }
   ],
   "source": [
    "import random\n",
    "\n",
    "numero_da_indovinare=random.randint(1, 100)\n",
    "tentativi=0\n",
    "\n",
    "while True:\n",
    "    tentativo=int(input(\"indovina il numero (1-100): \"))\n",
    "    tentativi+=1\n",
    "    \n",
    "    if tentativo==numero_da_indovinare:\n",
    "        print(\"Bravo! Hai indovinato il numero\", numero_da_indovinare, \"in\", tentativi, \"tentativi.\")\n",
    "        break\n",
    "    elif tentativo<numero_da_indovinare:\n",
    "        print(\"il numero da indovinare è più grande.\")\n",
    "    else:\n",
    "        print(\"il numero da indovinare è più piccolo.\")"
   ]
  },
  {
   "cell_type": "code",
   "execution_count": null,
   "id": "da8b2673",
   "metadata": {},
   "outputs": [],
   "source": []
  },
  {
   "cell_type": "code",
   "execution_count": 5,
   "id": "ea1dbe48",
   "metadata": {},
   "outputs": [
    {
     "name": "stdout",
     "output_type": "stream",
     "text": [
      "inserisci numero: 4\n",
      "il numero fattoriale di 4 è 24\n"
     ]
    }
   ],
   "source": [
    "n=int(input(\"inserisci numero: \"))\n",
    "\n",
    "fattoriale=1\n",
    "\n",
    "if n<0:\n",
    "    print(\"aspetta... solo numeri positivi\")\n",
    "elif n==0:\n",
    "    print(\"deve essere intero\")\n",
    "else:\n",
    "    for numero in range(1,1+n):\n",
    "        fattoriale*=numero\n",
    "print(f\"il numero fattoriale di {n} è {fattoriale}\")"
   ]
  },
  {
   "cell_type": "code",
   "execution_count": null,
   "id": "9b48614a",
   "metadata": {},
   "outputs": [],
   "source": []
  },
  {
   "cell_type": "code",
   "execution_count": 8,
   "id": "e28b51aa",
   "metadata": {},
   "outputs": [
    {
     "name": "stdout",
     "output_type": "stream",
     "text": [
      "inserisci una frase io sono rimasto a casa\n",
      "nella frase ci sono 10 vocali\n"
     ]
    }
   ],
   "source": [
    "frase=input(\"inserisci una frase \").lower()\n",
    "CV=0\n",
    "V=\"aeiou\"\n",
    "for carattere in frase:\n",
    "    if carattere in V:\n",
    "        CV+=1\n",
    "#la \"f\" prima delle \"\" serve a renderle più flessibili per inserire variabili come CV\n",
    "print(f\"nella frase ci sono {CV} vocali\")"
   ]
  },
  {
   "cell_type": "code",
   "execution_count": null,
   "id": "c56c202b",
   "metadata": {},
   "outputs": [],
   "source": []
  },
  {
   "cell_type": "code",
   "execution_count": 5,
   "id": "5c315b1f",
   "metadata": {},
   "outputs": [
    {
     "ename": "SyntaxError",
     "evalue": "invalid syntax (3205867344.py, line 7)",
     "output_type": "error",
     "traceback": [
      "\u001b[1;36m  Cell \u001b[1;32mIn[5], line 7\u001b[1;36m\u001b[0m\n\u001b[1;33m    if indovina== <1 or indovina >6:\u001b[0m\n\u001b[1;37m                  ^\u001b[0m\n\u001b[1;31mSyntaxError\u001b[0m\u001b[1;31m:\u001b[0m invalid syntax\n"
     ]
    }
   ],
   "source": []
  },
  {
   "cell_type": "code",
   "execution_count": null,
   "id": "7754b491",
   "metadata": {},
   "outputs": [],
   "source": []
  },
  {
   "cell_type": "code",
   "execution_count": 4,
   "id": "323ee322",
   "metadata": {},
   "outputs": [
    {
     "name": "stdout",
     "output_type": "stream",
     "text": [
      "inserisci la popolazione iniziale: 10000\n",
      "inserisci numero di anni da simulare: 10\n",
      "inserisci il tasso di natalità: 10\n",
      "inserisci il tasso di mortalità5\n",
      "Anno 1: Popolazione= 10500\n",
      "Simulazione completata\n",
      "Anno 2: Popolazione= 11025\n",
      "Simulazione completata\n",
      "Anno 3: Popolazione= 11576\n",
      "Simulazione completata\n",
      "Anno 4: Popolazione= 12155\n",
      "Simulazione completata\n",
      "Anno 5: Popolazione= 12762\n",
      "Simulazione completata\n",
      "Anno 6: Popolazione= 13400\n",
      "Simulazione completata\n",
      "Anno 7: Popolazione= 14071\n",
      "Simulazione completata\n",
      "Anno 8: Popolazione= 14774\n",
      "Simulazione completata\n",
      "Anno 9: Popolazione= 15513\n",
      "Simulazione completata\n",
      "Anno 10: Popolazione= 16288\n",
      "Simulazione completata\n"
     ]
    }
   ],
   "source": [
    "popolazione=int(input(\"inserisci la popolazione iniziale: \"))\n",
    "anni=int(input(\"inserisci numero di anni da simulare: \"))\n",
    "tasso_natalità=float(input(\"inserisci il tasso di natalità: \"))\n",
    "tasso_mortalità=float(input(\"inserisci il tasso di mortalità\"))\n",
    "\n",
    "for anno in range(anni):\n",
    "    nascite=(popolazione*tasso_natalità)/100\n",
    "    morti=(popolazione*tasso_mortalità)/100\n",
    "    popolazione+=(nascite-morti)\n",
    "    \n",
    "    print(f\"Anno {anno+1}: Popolazione= {int(popolazione)}\")\n",
    "\n",
    "    print(\"Simulazione completata.\")"
   ]
  },
  {
   "cell_type": "code",
   "execution_count": null,
   "id": "7402d32c",
   "metadata": {},
   "outputs": [],
   "source": []
  },
  {
   "cell_type": "code",
   "execution_count": 5,
   "id": "b92531bd",
   "metadata": {},
   "outputs": [
    {
     "name": "stdout",
     "output_type": "stream",
     "text": [
      "oggi è il giorno: 18 / 10 / 2023 ore: 13 : 00 : 36\n"
     ]
    }
   ],
   "source": [
    "import datetime\n",
    "\n",
    "today=datetime.datetime.today()\n",
    "print(f\"oggi è il giorno: {today:%d / %m / %Y} ore: {today:%H : %M : %S}\")"
   ]
  },
  {
   "cell_type": "code",
   "execution_count": 2,
   "id": "3b5211d5",
   "metadata": {},
   "outputs": [
    {
     "name": "stdout",
     "output_type": "stream",
     "text": [
      "Benvenuto nel Convertitore di Unità di Misura!\n",
      "cosa vuoi convertire (metri/piedi, libbre/chilogrammi)libbre\n",
      "inserisci il valore in libbre: 10\n",
      "10.0 libbre corrispondono a 22.0462 chilogrammi\n"
     ]
    }
   ],
   "source": [
    "print(\"Benvenuto nel Convertitore di Unità di Misura!\")\n",
    "\n",
    "scelta=input(\"cosa vuoi convertire (metri/piedi, libbre/chilogrammi)\")\n",
    "\n",
    "if scelta==\"metri\":\n",
    "    valore=float(input(\"inserisci il valore in metri: \"))\n",
    "    risultato=valore*3.28084\n",
    "    print(f\"{valore} metri corrispondono a {risultato} piedi\")\n",
    "    \n",
    "elif scelta==\"piedi\":\n",
    "    valore=float(input(\"inserisci il valore in piedi: \"))\n",
    "    risultato=valore/3.28084\n",
    "    print(f\"{valore} piedi corrispondono a {risultato} metri\")\n",
    "    \n",
    "elif scelta==\"chilogrammi\":\n",
    "    valore=float(input(\"inserisci il valore in chilogrammi: \"))\n",
    "    risultato=valore*2.20462\n",
    "    print(f\"{valore} chilogrammi corrispondono a {risultato} libbre\")\n",
    "\n",
    "elif scelta==\"libbre\":\n",
    "    valore=float(input(\"inserisci il valore in libbre: \"))\n",
    "    risultato=valore*2.20462\n",
    "    print(f\"{valore} libbre corrispondono a {risultato} chilogrammi\")\n",
    "\n",
    "else:\n",
    "    print(\"scelta non valida. scegli tra 'metri'/'piedi', 'chilogrammi'/'libbre'\")"
   ]
  },
  {
   "cell_type": "code",
   "execution_count": null,
   "id": "08140e3c",
   "metadata": {},
   "outputs": [],
   "source": []
  },
  {
   "cell_type": "code",
   "execution_count": 4,
   "id": "a7d3b37b",
   "metadata": {},
   "outputs": [
    {
     "name": "stdout",
     "output_type": "stream",
     "text": [
      "inserisci un numero n per calcolare l'n-esimo numero di Fibonacci: 10\n",
      "l'n-esimo numero di Fibonacci è: 34\n"
     ]
    }
   ],
   "source": [
    "n=int(input(\"inserisci un numero n per calcolare l'n-esimo numero di Fibonacci: \"))\n",
    "\n",
    "a=0\n",
    "b=1\n",
    "c=a+b\n",
    "\n",
    "if n<=0:\n",
    "    print(\"il numero deve essere maggiore di 0.\")\n",
    "    \n",
    "elif n==1:\n",
    "    risultato=a\n",
    "else:\n",
    "    for interazione in range(n-3):\n",
    "        a=b\n",
    "        b=c\n",
    "        c=a+b\n",
    "    risultato=c\n",
    "    \n",
    "print(\"l'n-esimo numero di Fibonacci è:\", risultato)"
   ]
  },
  {
   "cell_type": "code",
   "execution_count": null,
   "id": "8240aa32",
   "metadata": {},
   "outputs": [],
   "source": []
  },
  {
   "cell_type": "code",
   "execution_count": 3,
   "id": "e45f824c",
   "metadata": {},
   "outputs": [],
   "source": [
    "#def=definisci\n",
    "def fibonacci(n):\n",
    "    fib_series=[0,1]\n",
    "    \n",
    "    while len(fib_series)<n:\n",
    "        fib_series.append(fib_series[-1]+fib_series[-2])\n",
    "        \n",
    "    return fib_series"
   ]
  },
  {
   "cell_type": "code",
   "execution_count": 4,
   "id": "f2996b0d",
   "metadata": {},
   "outputs": [
    {
     "data": {
      "text/plain": [
       "[0, 1, 1, 2, 3, 5, 8, 13, 21, 34, 55, 89]"
      ]
     },
     "execution_count": 4,
     "metadata": {},
     "output_type": "execute_result"
    }
   ],
   "source": [
    "fibonacci(12)"
   ]
  },
  {
   "cell_type": "code",
   "execution_count": null,
   "id": "2df0f779",
   "metadata": {},
   "outputs": [],
   "source": []
  },
  {
   "cell_type": "code",
   "execution_count": 5,
   "id": "0235883f",
   "metadata": {},
   "outputs": [
    {
     "name": "stdout",
     "output_type": "stream",
     "text": [
      "inserisci il numero di termini della serie di fibonaccida generare: 12\n",
      "[0, 1, 1, 2, 3, 5, 8, 13, 21, 34, 55, 89]\n"
     ]
    }
   ],
   "source": [
    "n=int(input(\"inserisci il numero di termini della serie di fibonaccida generare: \"))\n",
    "\n",
    "if n<=0:\n",
    "    print(\"inserisci un numero positivo.\")\n",
    "else:\n",
    "    result=fibonacci(n)#result=output(riceve input e output)\n",
    "    print(result)"
   ]
  },
  {
   "cell_type": "code",
   "execution_count": null,
   "id": "96835eff",
   "metadata": {},
   "outputs": [],
   "source": []
  },
  {
   "cell_type": "code",
   "execution_count": 4,
   "id": "3f10ead5",
   "metadata": {},
   "outputs": [],
   "source": [
    "import math\n",
    "\n",
    "def calcola_area_cerchio(raggio):\n",
    "    return math.pi*(raggio**2)\n",
    "\n",
    "def calcola_area_rettangolo(base, altezza):\n",
    "    return base*altezza\n",
    "\n",
    "def calcola_area_trangolo(base, altezza):\n",
    "    return (base*altezza)/2"
   ]
  },
  {
   "cell_type": "code",
   "execution_count": 7,
   "id": "190fcedb",
   "metadata": {},
   "outputs": [
    {
     "data": {
      "text/plain": [
       "314.1592653589793"
      ]
     },
     "execution_count": 7,
     "metadata": {},
     "output_type": "execute_result"
    }
   ],
   "source": [
    "calcola_area_cerchio(10)"
   ]
  },
  {
   "cell_type": "raw",
   "id": "9f143cd6",
   "metadata": {},
   "source": []
  },
  {
   "cell_type": "code",
   "execution_count": 6,
   "id": "1ecc0732",
   "metadata": {},
   "outputs": [
    {
     "name": "stdout",
     "output_type": "stream",
     "text": [
      "benvenuto nella calcolatrice di aree\n",
      "vuoi calcolare l'area di un cerchio (c), rettangolo (r), triangolo (t)? t\n",
      "inserisci la base del triangolo: 10\n",
      "inserisci l'altezza del triangolo: 10\n"
     ]
    },
    {
     "ename": "NameError",
     "evalue": "name 'calcola_area_rettangolo' is not defined",
     "output_type": "error",
     "traceback": [
      "\u001b[1;31m---------------------------------------------------------------------------\u001b[0m",
      "\u001b[1;31mNameError\u001b[0m                                 Traceback (most recent call last)",
      "Cell \u001b[1;32mIn[6], line 20\u001b[0m\n\u001b[0;32m     18\u001b[0m     raggio\u001b[38;5;241m=\u001b[39m\u001b[38;5;28mfloat\u001b[39m(\u001b[38;5;28minput\u001b[39m(\u001b[38;5;124m\"\u001b[39m\u001b[38;5;124minserisci la base del triangolo: \u001b[39m\u001b[38;5;124m\"\u001b[39m))\n\u001b[0;32m     19\u001b[0m     raggio\u001b[38;5;241m=\u001b[39m\u001b[38;5;28mfloat\u001b[39m(\u001b[38;5;28minput\u001b[39m(\u001b[38;5;124m\"\u001b[39m\u001b[38;5;124minserisci l\u001b[39m\u001b[38;5;124m'\u001b[39m\u001b[38;5;124maltezza del triangolo: \u001b[39m\u001b[38;5;124m\"\u001b[39m))\n\u001b[1;32m---> 20\u001b[0m     area\u001b[38;5;241m=\u001b[39mcalcola_area_rettangolo(base, altezza)\n\u001b[0;32m     21\u001b[0m     \u001b[38;5;28mprint\u001b[39m(\u001b[38;5;124mf\u001b[39m\u001b[38;5;124m\"\u001b[39m\u001b[38;5;124ml\u001b[39m\u001b[38;5;124m'\u001b[39m\u001b[38;5;124marea del triangolo è \u001b[39m\u001b[38;5;132;01m{\u001b[39;00marea\u001b[38;5;132;01m:\u001b[39;00m\u001b[38;5;124m .2f\u001b[39m\u001b[38;5;132;01m}\u001b[39;00m\u001b[38;5;124m\"\u001b[39m)\n\u001b[0;32m     22\u001b[0m \u001b[38;5;28;01melse\u001b[39;00m:\n",
      "\u001b[1;31mNameError\u001b[0m: name 'calcola_area_rettangolo' is not defined"
     ]
    }
   ],
   "source": [
    "print(\"benvenuto nella calcolatrice di aree\")\n",
    "\n",
    "\n",
    "scelta=input(\"vuoi calcolare l'area di un cerchio (c), rettangolo (r), triangolo (t)? \")\n",
    "\n",
    "if scelta =='c':\n",
    "    raggio=float(input(\"inserisci il raggio del cerchio: \"))\n",
    "    area=calcola_area_cerchio(raggio)\n",
    "    print(f\"l'area del cerchio è {area: .2f}\")\n",
    "\n",
    "elif scelta=='r':\n",
    "    base=float(input(\"inserisci la base del rettangolo: \"))\n",
    "    altezza=float(input(\"inserisci l'altezza del rettangolo: \"))\n",
    "    area=calcola_area_rettangolo(base, altezza)\n",
    "    print(f\"l'area del rettangolo è {area: .2f}\")\n",
    "\n",
    "elif scelta=='t':\n",
    "    raggio=float(input(\"inserisci la base del triangolo: \"))\n",
    "    raggio=float(input(\"inserisci l'altezza del triangolo: \"))\n",
    "    area=calcola_area_rettangolo(base, altezza)\n",
    "    print(f\"l'area del triangolo è {area: .2f}\")\n",
    "else:\n",
    "    print(\"puoi inserire solo c, r, t\")"
   ]
  },
  {
   "cell_type": "code",
   "execution_count": 1,
   "id": "1c0647d2",
   "metadata": {},
   "outputs": [],
   "source": [
    "def calcola_interessi(importo_iniziale, tasso_interesse, periodo_investimento):\n",
    "    importo_finale=importo_iniziale*(1+tasso_interesse/100)**periodo_investimento\n",
    "    return importo_finale"
   ]
  },
  {
   "cell_type": "code",
   "execution_count": 2,
   "id": "6232e355",
   "metadata": {},
   "outputs": [
    {
     "name": "stdout",
     "output_type": "stream",
     "text": [
      "benvenuto nel calcolatore di interessi! \n",
      "inserisci l'importo iniziale: 10\n",
      "inserisci il tasso di interesse annuale(%): 10\n",
      "inserisci il periodo di investimento (anni): 10\n",
      "l'importo finale è  25.94\n"
     ]
    }
   ],
   "source": [
    "print(\"benvenuto nel calcolatore di interessi! \")\n",
    "\n",
    "importo=float(input(\"inserisci l'importo iniziale: \"))\n",
    "tasso=float(input(\"inserisci il tasso di interesse annuale(%): \"))\n",
    "periodo=float(input(\"inserisci il periodo di investimento (anni): \"))\n",
    "\n",
    "importo_finale= calcola_interessi(importo, tasso, periodo)\n",
    "print(f\"l'importo finale è {importo_finale: .2f}\")"
   ]
  },
  {
   "cell_type": "code",
   "execution_count": null,
   "id": "97cd3556",
   "metadata": {},
   "outputs": [],
   "source": []
  },
  {
   "cell_type": "code",
   "execution_count": 6,
   "id": "63a8cb6d",
   "metadata": {},
   "outputs": [],
   "source": [
    "def forza_gravitazionale(m1, m2, r):\n",
    "    # Costante gravitazionale\n",
    "    G=6.67430e-11 # N(m/kg)^2\n",
    "    \n",
    "    # Calcolo della forza gravitazionale\n",
    "    F=(G*m1*m2)/(r**2)\n",
    "    \n",
    "    return F"
   ]
  },
  {
   "cell_type": "code",
   "execution_count": 9,
   "id": "9dc0d66a",
   "metadata": {},
   "outputs": [
    {
     "name": "stdout",
     "output_type": "stream",
     "text": [
      "Forza Gravitazionale tra la Terra e la Luna: 1.9804922390990566e+20 Newton\n"
     ]
    }
   ],
   "source": [
    "#esempio di utilizzo\n",
    "Massa_Terra=5.972e24 #kg\n",
    "Massa_Luna=7.342e22\n",
    "Distanza_Terra_Luna=384400000\n",
    "\n",
    "forza=forza_gravitazionale(Massa_Terra, Massa_Luna, Distanza_Terra_Luna)\n",
    "print(f\"Forza Gravitazionale tra la Terra e la Luna: {forza} Newton\")"
   ]
  },
  {
   "cell_type": "code",
   "execution_count": 3,
   "id": "45df53ad",
   "metadata": {},
   "outputs": [
    {
     "name": "stdout",
     "output_type": "stream",
     "text": [
      "Note: you may need to restart the kernel to use updated packages.\n"
     ]
    },
    {
     "name": "stderr",
     "output_type": "stream",
     "text": [
      "ERROR: Could not find a version that satisfies the requirement itertools (from versions: none)\n",
      "ERROR: No matching distribution found for itertools\n"
     ]
    }
   ],
   "source": []
  },
  {
   "cell_type": "code",
   "execution_count": 4,
   "id": "67962dc6",
   "metadata": {},
   "outputs": [],
   "source": [
    "from itertools import permutations\n",
    "k=0\n",
    "\n",
    "def trova_anagrammi(parola):\n",
    "    anagrammi=[\"\".join(p) for p in permutation(parola)]\n",
    "    return anagrammi"
   ]
  },
  {
   "cell_type": "code",
   "execution_count": 6,
   "id": "bcde6829",
   "metadata": {},
   "outputs": [
    {
     "name": "stdout",
     "output_type": "stream",
     "text": [
      "Benvenuto nel Risolutore di Anagrammi!\n",
      "Inserisci una parola: gigi\n",
      "ggii\n",
      "iigg\n",
      "iggi\n",
      "igig\n",
      "giig\n",
      "Gli anagrammi unici di 'gigi' sono in totale: 5\n"
     ]
    }
   ],
   "source": [
    "from itertools import permutations\n",
    "\n",
    "def trova_anagrammi(parola):\n",
    "    return set([''.join(p) for p in permutations(parola)])\n",
    "\n",
    "print(\"Benvenuto nel Risolutore di Anagrammi!\")\n",
    "\n",
    "parola_input = input(\"Inserisci una parola: \").strip().lower()  # strip spazi bianchi lower in minuscolo\n",
    "\n",
    "if len(parola_input) < 2:\n",
    "    print(\"Inserisci una parola con almeno 2 caratteri.\")\n",
    "else:\n",
    "    anagrammi = trova_anagrammi(parola_input)\n",
    "    k = 0 \n",
    "\n",
    "    for elemento in anagrammi:\n",
    "        if elemento != parola_input:\n",
    "            k += 1\n",
    "            print(elemento)\n",
    "\n",
    "    print(f\"Gli anagrammi unici di '{parola_input}' sono in totale: {k}\")"
   ]
  },
  {
   "cell_type": "code",
   "execution_count": 8,
   "id": "ca8d5ad8",
   "metadata": {},
   "outputs": [
    {
     "name": "stdout",
     "output_type": "stream",
     "text": [
      "inserisci l'importo da convertire: 100\n",
      "inserisci la valuta di partenza: euro\n",
      "inserisci la valuta di destinazione: yen\n",
      "100.0 euro sono equivalenti a  12989.41 yen\n"
     ]
    }
   ],
   "source": [
    "#definizione dei tassi di cambio\n",
    "\n",
    "tassi_di_cambio={\n",
    "    \"dollari\": 1.0,\n",
    "    \"euro\": 0.85,\n",
    "    \"yen\": 110.41,\n",
    "    #aggiungi altre valute e tassi di cambio se necessario\n",
    "}\n",
    "\n",
    "#chiedi all'utente di inserire l'importo, la valuta di partenza e la valuta di destinazione\n",
    "importo=float(input(\"inserisci l'importo da convertire: \"))\n",
    "valuta_di_partenza=input(\"inserisci la valuta di partenza: \").lower()\n",
    "valuta_di_destinazione=input(\"inserisci la valuta di destinazione: \").lower()\n",
    "\n",
    "#verifica se le valute sono nel dizionario dei tassi di cambio\n",
    "if valuta_di_partenza in tassi_di_cambio and valuta_di_destinazione in tassi_di_cambio:\n",
    "    #calcola il tasso di cambio e l'importo invertito\n",
    "    tasso_di_cambio=tassi_di_cambio[valuta_di_destinazione]/tassi_di_cambio[valuta_di_partenza]\n",
    "    importo_convertito=importo*tasso_di_cambio\n",
    "    \n",
    "    #stampa il risultato\n",
    "    print(f\"{importo} {valuta_di_partenza} sono equivalenti a {importo_convertito: .2f} {valuta_di_destinazione}\")\n",
    "else:\n",
    "    print(\"valute non supportate. assicurati di inserire valute valide.\")"
   ]
  },
  {
   "cell_type": "code",
   "execution_count": null,
   "id": "896ddca6",
   "metadata": {},
   "outputs": [],
   "source": []
  },
  {
   "cell_type": "code",
   "execution_count": 4,
   "id": "cac0ef36",
   "metadata": {},
   "outputs": [
    {
     "name": "stdout",
     "output_type": "stream",
     "text": [
      "inserisci una frase: ciao mi chiamo mattia\n",
      "le lettere in quests frase sono: 0\n"
     ]
    }
   ],
   "source": [
    "frase=input(\"inserisci una frase: \")\n",
    "\n",
    "frase=frase.lower()\n",
    "\n",
    "alfabeto= 'abcdefghijklmnopqrstuvwxyz'\n",
    "\n",
    "conteggio_lettere={}\n",
    "\n",
    "for lettera in alfabeto:\n",
    "    conteggio=frase.count(lettera)\n",
    "    \n",
    "if conteggio>0:\n",
    "    conteggio_lettere[lettera]=conteggio"
   ]
  },
  {
   "cell_type": "code",
   "execution_count": null,
   "id": "298e11e6",
   "metadata": {},
   "outputs": [],
   "source": []
  },
  {
   "cell_type": "code",
   "execution_count": 1,
   "id": "431d8017",
   "metadata": {},
   "outputs": [
    {
     "name": "stdout",
     "output_type": "stream",
     "text": [
      "scegli un numero da 1 a 8: 1\n",
      "il computer ha scelto 4\n",
      "il proiettile era nel 2 slot\n",
      "siete sopravvisuti entrambi\n",
      "per continuare a giocare premi 1: 1\n",
      "scegli un numero da 1 a 8: 1\n",
      "il computer ha scelto 6\n",
      "il proiettile è nel 6 slot\n",
      "hai vinto\n"
     ]
    }
   ],
   "source": [
    "import random\n",
    "\n",
    "P=random.randint(1, 8)\n",
    "\n",
    "scelta_del_giocatore=int(input(\"scegli un numero da 1 a 8: \"))\n",
    "scelta_del_computer=random.randint(1, 8)\n",
    "while True:\n",
    "    if scelta_del_giocatore<1 or scelta_del_giocatore >8:\n",
    "        print(\"scelta errata\")\n",
    "        break\n",
    "    elif scelta_del_computer==scelta_del_giocatore:\n",
    "        scelta_del_computer=random.randint(1,8)\n",
    "    elif scelta_del_giocatore==P:\n",
    "        print(\"Bang! sei morto\")\n",
    "        break\n",
    "    elif scelta_del_computer==P:\n",
    "        print(\"il computer ha scelto\",scelta_del_computer)\n",
    "        print(\"il proiettile è nel\",P,\"slot\")\n",
    "        print(\"hai vinto\")\n",
    "        break\n",
    "    else:\n",
    "        print(\"il computer ha scelto\",scelta_del_computer)\n",
    "        print(\"il proiettile era nel\",P,\"slot\")\n",
    "        print(\"siete sopravvisuti entrambi\")\n",
    "        continuare=input(\"per continuare a giocare premi 1: \")\n",
    "        if continuare==\"1\":\n",
    "            P=random.randint(1, 8)\n",
    "            scelta_del_giocatore=int(input(\"scegli un numero da 1 a 8: \"))\n",
    "            scelta_del_computer=P=random.randint(1, 8)\n",
    "            if scelta_del_giocatore<1 or scelta_del_giocatore>8:\n",
    "                print(\"scelta errata\")\n",
    "                break\n",
    "        else:\n",
    "            break"
   ]
  },
  {
   "cell_type": "markdown",
   "id": "7a37a88c",
   "metadata": {},
   "source": []
  }
 ],
 "metadata": {
  "kernelspec": {
   "display_name": "Python 3 (ipykernel)",
   "language": "python",
   "name": "python3"
  },
  "language_info": {
   "codemirror_mode": {
    "name": "ipython",
    "version": 3
   },
   "file_extension": ".py",
   "mimetype": "text/x-python",
   "name": "python",
   "nbconvert_exporter": "python",
   "pygments_lexer": "ipython3",
   "version": "3.11.4"
  }
 },
 "nbformat": 4,
 "nbformat_minor": 5
}
